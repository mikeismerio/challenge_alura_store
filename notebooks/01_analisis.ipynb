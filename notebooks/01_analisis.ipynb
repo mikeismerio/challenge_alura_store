{
 "cells": [
  {
   "cell_type": "code",
   "execution_count": null,
   "id": "a681ffff",
   "metadata": {},
   "outputs": [],
   "source": [
    "# =====================================\n",
    "# 🧠 Challenge Alura Store - Análisis de Tiendas\n",
    "# =====================================\n",
    "\n",
    "import pandas as pd\n",
    "import matplotlib.pyplot as plt\n",
    "import seaborn as sns\n",
    "from pathlib import Path\n",
    "\n",
    "# Cargar datos\n",
    "raw_path = Path(\"../data/raw\")\n",
    "tienda1 = pd.read_csv(raw_path / \"tienda_1.csv\")\n"
   ]
  }
 ],
 "metadata": {
  "kernelspec": {
   "display_name": "venv",
   "language": "python",
   "name": "python3"
  },
  "language_info": {
   "codemirror_mode": {
    "name": "ipython",
    "version": 3
   },
   "file_extension": ".py",
   "mimetype": "text/x-python",
   "name": "python",
   "nbconvert_exporter": "python",
   "pygments_lexer": "ipython3",
   "version": "3.14.0"
  }
 },
 "nbformat": 4,
 "nbformat_minor": 5
}
